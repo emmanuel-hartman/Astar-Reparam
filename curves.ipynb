{
 "cells": [
  {
   "cell_type": "code",
   "execution_count": 3,
   "id": "168286d1",
   "metadata": {},
   "outputs": [],
   "source": [
    "import numpy as np\n",
    "import matplotlib.pyplot as plt\n",
    "\n",
    "from curves_align import *\n",
    "import time"
   ]
  },
  {
   "cell_type": "code",
   "execution_count": null,
   "id": "bed10d36",
   "metadata": {},
   "outputs": [],
   "source": [
    "\n",
    "t1=np.linspace(0, 1, num=49, endpoint=True)\n",
    "y1=np.sin(2*np.pi*t1)\n",
    "\n",
    "t2=np.linspace(0, 1, num=49, endpoint=True)\n",
    "y2=t2+4#np.sin(4*np.pi*t1)+4#\n",
    "\n",
    "x1=np.stack((x1,y1)).T\n",
    "x2=np.stack((t2,y2)).T\n",
    "print(x1.shape,x2.shape)"
   ]
  },
  {
   "cell_type": "code",
   "execution_count": null,
   "id": "aebb86c0",
   "metadata": {},
   "outputs": [],
   "source": [
    "plt.plot(x1[:,0],x1[:,1])\n",
    "plt.plot(x2[:,0],x2[:,1])\n",
    "plt.show()\n",
    "\n",
    "\n",
    "for i in range(0,11):\n",
    "    j=i/10.0\n",
    "    xt= j*x1+(1-j)*x2\n",
    "    plt.plot(xt[:,0],xt[:,1])\n",
    "plt.show()\n",
    "    "
   ]
  },
  {
   "cell_type": "code",
   "execution_count": null,
   "id": "05604987",
   "metadata": {},
   "outputs": [],
   "source": [
    "clock=time.time()\n",
    "rx1,rx2,g1,g2,t=precise_align(x1,t1,x2,t2)\n",
    "print(time.time()-clock)"
   ]
  },
  {
   "cell_type": "code",
   "execution_count": null,
   "id": "cc4e9228",
   "metadata": {},
   "outputs": [],
   "source": [
    "plt.plot(g1,g2)\n",
    "plt.show()\n",
    "\n",
    "plt.plot(rx1[:,0],rx1[:,1])\n",
    "plt.scatter(rx1[:,0],rx1[:,1])\n",
    "plt.show()\n",
    "\n",
    "plt.scatter(rx2[:,0],rx2[:,1])\n",
    "plt.plot(rx2[:,0],rx2[:,1])\n",
    "plt.show()\n"
   ]
  },
  {
   "cell_type": "code",
   "execution_count": null,
   "id": "71b48d72",
   "metadata": {},
   "outputs": [],
   "source": [
    "\n",
    "for i in range(0,11):\n",
    "    j=i/10.0\n",
    "    rt= j*rx1+(1-j)*rx2\n",
    "    plt.plot(rt[:,0],rt[:,1])\n",
    "plt.show()"
   ]
  }
 ],
 "metadata": {
  "kernelspec": {
   "display_name": "Python 3",
   "language": "python",
   "name": "python3"
  },
  "language_info": {
   "codemirror_mode": {
    "name": "ipython",
    "version": 3
   },
   "file_extension": ".py",
   "mimetype": "text/x-python",
   "name": "python",
   "nbconvert_exporter": "python",
   "pygments_lexer": "ipython3",
   "version": "3.8.8"
  }
 },
 "nbformat": 4,
 "nbformat_minor": 5
}
